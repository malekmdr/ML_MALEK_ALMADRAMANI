{
 "cells": [
  {
   "cell_type": "code",
   "execution_count": 41,
   "id": "e5da5223",
   "metadata": {},
   "outputs": [
    {
     "name": "stdout",
     "output_type": "stream",
     "text": [
      "OLS Precision: 0.74, Recall: 0.77\n",
      "Linear Regression Precision: 0.74, Recall: 0.77\n",
      "The best model is: Linear Regression\n"
     ]
    }
   ],
   "source": [
    "import pandas as pd\n",
    "import numpy as np\n",
    "from sklearn.model_selection import train_test_split\n",
    "from sklearn.preprocessing import StandardScaler, OneHotEncoder\n",
    "from sklearn.compose import ColumnTransformer\n",
    "from sklearn.linear_model import LinearRegression\n",
    "from sklearn.pipeline import Pipeline\n",
    "from sklearn.metrics import precision_score, recall_score\n",
    "import statsmodels.api as sm\n",
    "\n",
    "df = pd.read_csv('train.csv')\n",
    "\n",
    "df['Age'].fillna(df['Age'].mean(), inplace=True)\n",
    "df['Fare'].fillna(df['Fare'].mean(), inplace=True)\n",
    "df.drop(columns=['Cabin', 'Ticket'], inplace=True)\n",
    "df.dropna(subset=['Embarked'], inplace=True)\n",
    "\n",
    "df.drop_duplicates(inplace=True)\n",
    "\n",
    "categorical_features = ['Sex', 'Embarked']\n",
    "numerical_features = ['Age', 'Fare', 'SibSp', 'Parch']\n",
    "\n",
    "preprocessor = ColumnTransformer(\n",
    "    transformers=[\n",
    "        ('num', StandardScaler(), numerical_features),\n",
    "        ('cat', OneHotEncoder(), categorical_features)\n",
    "    ])\n",
    "\n",
    "X = df[['Pclass', 'Sex', 'Age', 'SibSp', 'Parch', 'Fare', 'Embarked']]\n",
    "y = df['Survived']\n",
    "\n",
    "X_train, X_test, y_train, y_test = train_test_split(X, y, test_size=0.2, random_state=42)\n",
    "\n",
    "X_train = preprocessor.fit_transform(X_train)\n",
    "X_test = preprocessor.transform(X_test)\n",
    "\n",
    "X_train_ols = sm.add_constant(X_train)\n",
    "ols_model = sm.OLS(y_train, X_train_ols).fit()\n",
    "X_test_ols = sm.add_constant(X_test)\n",
    "y_pred_ols = ols_model.predict(X_test_ols)\n",
    "y_pred_ols = np.where(y_pred_ols > 0.5, 1, 0)\n",
    "\n",
    "lr_model = LinearRegression()\n",
    "lr_model.fit(X_train, y_train)\n",
    "y_pred_lr = lr_model.predict(X_test)\n",
    "y_pred_lr = np.where(y_pred_lr > 0.5, 1, 0)\n",
    "\n",
    "precision_ols = precision_score(y_test, y_pred_ols)\n",
    "recall_ols = recall_score(y_test, y_pred_ols)\n",
    "precision_lr = precision_score(y_test, y_pred_lr)\n",
    "recall_lr = recall_score(y_test, y_pred_lr)\n",
    "\n",
    "print(f\"OLS Precision: {precision_ols:.2f}, Recall: {recall_ols:.2f}\")\n",
    "print(f\"Linear Regression Precision: {precision_lr:.2f}, Recall: {recall_lr:.2f}\")\n",
    "\n",
    "if precision_ols > precision_lr and recall_ols > recall_lr:\n",
    "    best_model = 'OLS Regression'\n",
    "else:\n",
    "    best_model = 'Linear Regression'\n",
    "\n",
    "print(f\"The best model is: {best_model}\")\n"
   ]
  },
  {
   "cell_type": "code",
   "execution_count": null,
   "id": "3b56d6eb",
   "metadata": {},
   "outputs": [],
   "source": []
  }
 ],
 "metadata": {
  "kernelspec": {
   "display_name": "Python 3 (ipykernel)",
   "language": "python",
   "name": "python3"
  },
  "language_info": {
   "codemirror_mode": {
    "name": "ipython",
    "version": 3
   },
   "file_extension": ".py",
   "mimetype": "text/x-python",
   "name": "python",
   "nbconvert_exporter": "python",
   "pygments_lexer": "ipython3",
   "version": "3.10.9"
  }
 },
 "nbformat": 4,
 "nbformat_minor": 5
}
